{
 "cells": [
  {
   "cell_type": "code",
   "id": "initial_id",
   "metadata": {
    "collapsed": true,
    "ExecuteTime": {
     "end_time": "2025-01-13T07:40:57.624779Z",
     "start_time": "2025-01-13T07:40:57.547331Z"
    }
   },
   "source": [
    "# [1] set up:\n",
    "\n",
    "# imports:\n",
    "from getpass import getpass\n",
    "import psycopg"
   ],
   "outputs": [],
   "execution_count": 2
  },
  {
   "metadata": {
    "ExecuteTime": {
     "end_time": "2025-01-13T07:53:33.051432Z",
     "start_time": "2025-01-13T07:53:24.350053Z"
    }
   },
   "cell_type": "code",
   "source": [
    "# [2] check in:\n",
    "\n",
    "# connection psycopg:\n",
    "pw = getpass('Please enter password: ')\n",
    "with psycopg.connect(\n",
    "    host='localhost',\n",
    "    port='5432',\n",
    "    user='süleyman',\n",
    "    password=pw,\n",
    "    dbname='nasa_exoplanets',\n",
    "    autocommit=True\n",
    ") as connection:\n",
    "    print(\"psycopg connected!\")"
   ],
   "id": "9f8a2e9fbc5493b1",
   "outputs": [
    {
     "name": "stdout",
     "output_type": "stream",
     "text": [
      "psycopg connected!\n"
     ]
    }
   ],
   "execution_count": 8
  },
  {
   "metadata": {
    "ExecuteTime": {
     "end_time": "2025-01-13T07:53:40.925843Z",
     "start_time": "2025-01-13T07:53:40.921839Z"
    }
   },
   "cell_type": "code",
   "source": [
    "# [3] check out:\n",
    "\n",
    "# kill connenction:\n",
    "connection.close()"
   ],
   "id": "87588a57d24d4ac8",
   "outputs": [],
   "execution_count": 9
  },
  {
   "metadata": {},
   "cell_type": "code",
   "outputs": [],
   "execution_count": null,
   "source": "",
   "id": "7514bf935a081b2f"
  }
 ],
 "metadata": {
  "kernelspec": {
   "display_name": "Python 3",
   "language": "python",
   "name": "python3"
  },
  "language_info": {
   "codemirror_mode": {
    "name": "ipython",
    "version": 2
   },
   "file_extension": ".py",
   "mimetype": "text/x-python",
   "name": "python",
   "nbconvert_exporter": "python",
   "pygments_lexer": "ipython2",
   "version": "2.7.6"
  }
 },
 "nbformat": 4,
 "nbformat_minor": 5
}
